{
  "nbformat": 4,
  "nbformat_minor": 0,
  "metadata": {
    "kernelspec": {
      "display_name": "Python 3",
      "language": "python",
      "name": "python3"
    },
    "language_info": {
      "codemirror_mode": {
        "name": "ipython",
        "version": 3
      },
      "file_extension": ".py",
      "mimetype": "text/x-python",
      "name": "python",
      "nbconvert_exporter": "python",
      "pygments_lexer": "ipython3",
      "version": "3.6.7"
    },
    "colab": {
      "name": "Part 4 - Fashion-MNIST (Exercises).ipynb",
      "version": "0.3.2",
      "provenance": [],
      "collapsed_sections": [],
      "include_colab_link": true
    }
  },
  "cells": [
    {
      "cell_type": "markdown",
      "metadata": {
        "id": "view-in-github",
        "colab_type": "text"
      },
      "source": [
        "<a href=\"https://colab.research.google.com/github/plfoley10/UMKC_AI_Cyber_Security_Fall_2019/blob/master/Part_4_Fashion_MNIST_(Exercises).ipynb\" target=\"_parent\"><img src=\"https://colab.research.google.com/assets/colab-badge.svg\" alt=\"Open In Colab\"/></a>"
      ]
    },
    {
      "cell_type": "markdown",
      "metadata": {
        "id": "KcF7mmHxbcKq",
        "colab_type": "text"
      },
      "source": [
        "# Classifying Fashion-MNIST\n",
        "\n",
        "Now it's your turn to build and train a neural network. You'll be using the [Fashion-MNIST dataset](https://github.com/zalandoresearch/fashion-mnist), a drop-in replacement for the MNIST dataset. MNIST is actually quite trivial with neural networks where you can easily achieve better than 97% accuracy. Fashion-MNIST is a set of 28x28 greyscale images of clothes. It's more complex than MNIST, so it's a better representation of the actual performance of your network, and a better representation of datasets you'll use in the real world.\n",
        "\n",
        "<img src='assets/fashion-mnist-sprite.png' width=500px>\n",
        "\n",
        "In this notebook, you'll build your own neural network. For the most part, you could just copy and paste the code from Part 3, but you wouldn't be learning. It's important for you to write the code yourself and get it to work. Feel free to consult the previous notebooks though as you work through this.\n",
        "\n",
        "First off, let's load the dataset through torchvision."
      ]
    },
    {
      "cell_type": "code",
      "metadata": {
        "id": "vjXB_3q3bcKs",
        "colab_type": "code",
        "outputId": "d57ead51-14cd-41df-d220-3ec8631805ac",
        "colab": {
          "base_uri": "https://localhost:8080/",
          "height": 280
        }
      },
      "source": [
        "import torch\n",
        "from torchvision import datasets, transforms\n",
        "import helper\n",
        "\n",
        "# Define a transform to normalize the data\n",
        "transform = transforms.Compose([transforms.ToTensor(),\n",
        "                                transforms.Normalize((0.5,), (0.5,))])\n",
        "# Download and load the training data\n",
        "trainset = datasets.FashionMNIST('~/.pytorch/F_MNIST_data/', download=True, train=True, transform=transform)\n",
        "trainloader = torch.utils.data.DataLoader(trainset, batch_size=64, shuffle=True)\n",
        "\n",
        "# Download and load the test data\n",
        "testset = datasets.FashionMNIST('~/.pytorch/F_MNIST_data/', download=True, train=False, transform=transform)\n",
        "testloader = torch.utils.data.DataLoader(testset, batch_size=64, shuffle=True)"
      ],
      "execution_count": 1,
      "outputs": [
        {
          "output_type": "stream",
          "text": [
            "\r0it [00:00, ?it/s]"
          ],
          "name": "stderr"
        },
        {
          "output_type": "stream",
          "text": [
            "Downloading http://fashion-mnist.s3-website.eu-central-1.amazonaws.com/train-images-idx3-ubyte.gz to /root/.pytorch/F_MNIST_data/FashionMNIST/raw/train-images-idx3-ubyte.gz\n"
          ],
          "name": "stdout"
        },
        {
          "output_type": "stream",
          "text": [
            "26427392it [00:02, 9680396.27it/s]                              \n"
          ],
          "name": "stderr"
        },
        {
          "output_type": "stream",
          "text": [
            "Extracting /root/.pytorch/F_MNIST_data/FashionMNIST/raw/train-images-idx3-ubyte.gz\n"
          ],
          "name": "stdout"
        },
        {
          "output_type": "stream",
          "text": [
            "\r0it [00:00, ?it/s]"
          ],
          "name": "stderr"
        },
        {
          "output_type": "stream",
          "text": [
            "Downloading http://fashion-mnist.s3-website.eu-central-1.amazonaws.com/train-labels-idx1-ubyte.gz to /root/.pytorch/F_MNIST_data/FashionMNIST/raw/train-labels-idx1-ubyte.gz\n"
          ],
          "name": "stdout"
        },
        {
          "output_type": "stream",
          "text": [
            "32768it [00:00, 73888.41it/s]                            \n",
            "0it [00:00, ?it/s]"
          ],
          "name": "stderr"
        },
        {
          "output_type": "stream",
          "text": [
            "Extracting /root/.pytorch/F_MNIST_data/FashionMNIST/raw/train-labels-idx1-ubyte.gz\n",
            "Downloading http://fashion-mnist.s3-website.eu-central-1.amazonaws.com/t10k-images-idx3-ubyte.gz to /root/.pytorch/F_MNIST_data/FashionMNIST/raw/t10k-images-idx3-ubyte.gz\n"
          ],
          "name": "stdout"
        },
        {
          "output_type": "stream",
          "text": [
            "4423680it [00:01, 2913328.16it/s]                            \n",
            "0it [00:00, ?it/s]"
          ],
          "name": "stderr"
        },
        {
          "output_type": "stream",
          "text": [
            "Extracting /root/.pytorch/F_MNIST_data/FashionMNIST/raw/t10k-images-idx3-ubyte.gz\n",
            "Downloading http://fashion-mnist.s3-website.eu-central-1.amazonaws.com/t10k-labels-idx1-ubyte.gz to /root/.pytorch/F_MNIST_data/FashionMNIST/raw/t10k-labels-idx1-ubyte.gz\n"
          ],
          "name": "stdout"
        },
        {
          "output_type": "stream",
          "text": [
            "8192it [00:00, 23650.78it/s]            "
          ],
          "name": "stderr"
        },
        {
          "output_type": "stream",
          "text": [
            "Extracting /root/.pytorch/F_MNIST_data/FashionMNIST/raw/t10k-labels-idx1-ubyte.gz\n",
            "Processing...\n",
            "Done!\n"
          ],
          "name": "stdout"
        },
        {
          "output_type": "stream",
          "text": [
            "\n"
          ],
          "name": "stderr"
        }
      ]
    },
    {
      "cell_type": "code",
      "metadata": {
        "id": "SPpsffmIf55u",
        "colab_type": "code",
        "colab": {}
      },
      "source": [
        "import matplotlib.pyplot as plt\n",
        "import numpy as np\n",
        "from torch import nn, optim\n",
        "from torch.autograd import Variable\n",
        "\n",
        "def test_network(net, trainloader):\n",
        "\n",
        "    criterion = nn.MSELoss()\n",
        "    optimizer = optim.Adam(net.parameters(), lr=0.001)\n",
        "\n",
        "    dataiter = iter(trainloader)\n",
        "    images, labels = dataiter.next()\n",
        "\n",
        "    # Create Variables for the inputs and targets\n",
        "    inputs = Variable(images)\n",
        "    targets = Variable(images)\n",
        "\n",
        "    # Clear the gradients from all Variables\n",
        "    optimizer.zero_grad()\n",
        "\n",
        "    # Forward pass, then backward pass, then update weights\n",
        "    output = net.forward(inputs)\n",
        "    loss = criterion(output, targets)\n",
        "    loss.backward()\n",
        "    optimizer.step()\n",
        "\n",
        "    return True\n",
        "\n",
        "\n",
        "def imshow(image, ax=None, title=None, normalize=True):\n",
        "    \"\"\"Imshow for Tensor.\"\"\"\n",
        "    if ax is None:\n",
        "        fig, ax = plt.subplots()\n",
        "    image = image.numpy().transpose((1, 2, 0))\n",
        "\n",
        "    if normalize:\n",
        "        mean = np.array([0.485, 0.456, 0.406])\n",
        "        std = np.array([0.229, 0.224, 0.225])\n",
        "        image = std * image + mean\n",
        "        image = np.clip(image, 0, 1)\n",
        "\n",
        "    ax.imshow(image)\n",
        "    ax.spines['top'].set_visible(False)\n",
        "    ax.spines['right'].set_visible(False)\n",
        "    ax.spines['left'].set_visible(False)\n",
        "    ax.spines['bottom'].set_visible(False)\n",
        "    ax.tick_params(axis='both', length=0)\n",
        "    ax.set_xticklabels('')\n",
        "    ax.set_yticklabels('')\n",
        "\n",
        "    return ax\n",
        "\n",
        "\n",
        "def view_recon(img, recon):\n",
        "    ''' Function for displaying an image (as a PyTorch Tensor) and its\n",
        "        reconstruction also a PyTorch Tensor\n",
        "    '''\n",
        "\n",
        "    fig, axes = plt.subplots(ncols=2, sharex=True, sharey=True)\n",
        "    axes[0].imshow(img.numpy().squeeze())\n",
        "    axes[1].imshow(recon.data.numpy().squeeze())\n",
        "    for ax in axes:\n",
        "        ax.axis('off')\n",
        "        ax.set_adjustable('box-forced')\n",
        "\n",
        "def view_classify(img, ps, version=\"MNIST\"):\n",
        "    ''' Function for viewing an image and it's predicted classes.\n",
        "    '''\n",
        "    ps = ps.data.numpy().squeeze()\n",
        "\n",
        "    fig, (ax1, ax2) = plt.subplots(figsize=(6,9), ncols=2)\n",
        "    ax1.imshow(img.resize_(1, 28, 28).numpy().squeeze())\n",
        "    ax1.axis('off')\n",
        "    ax2.barh(np.arange(10), ps)\n",
        "    ax2.set_aspect(0.1)\n",
        "    ax2.set_yticks(np.arange(10))\n",
        "    if version == \"MNIST\":\n",
        "        ax2.set_yticklabels(np.arange(10))\n",
        "    elif version == \"Fashion\":\n",
        "        ax2.set_yticklabels(['T-shirt/top',\n",
        "                            'Trouser',\n",
        "                            'Pullover',\n",
        "                            'Dress',\n",
        "                            'Coat',\n",
        "                            'Sandal',\n",
        "                            'Shirt',\n",
        "                            'Sneaker',\n",
        "                            'Bag',\n",
        "                            'Ankle Boot'], size='small');\n",
        "    ax2.set_title('Class Probability')\n",
        "    ax2.set_xlim(0, 1.1)\n",
        "\n",
        "    plt.tight_layout()"
      ],
      "execution_count": 0,
      "outputs": []
    },
    {
      "cell_type": "markdown",
      "metadata": {
        "id": "FukJWCQ1bcKu",
        "colab_type": "text"
      },
      "source": [
        "Here we can see one of the images."
      ]
    },
    {
      "cell_type": "code",
      "metadata": {
        "id": "ft3pgtwybcKv",
        "colab_type": "code",
        "outputId": "572c6727-35fb-495f-b246-f28909f091dc",
        "colab": {
          "base_uri": "https://localhost:8080/",
          "height": 253
        }
      },
      "source": [
        "image, label = next(iter(trainloader))\n",
        "imshow(image[0,:]);"
      ],
      "execution_count": 4,
      "outputs": [
        {
          "output_type": "display_data",
          "data": {
            "image/png": "[encoded data removed]",
            "text/plain": [
              "<Figure size 432x288 with 1 Axes>"
            ]
          },
          "metadata": {
            "tags": []
          }
        }
      ]
    },
    {
      "cell_type": "markdown",
      "metadata": {
        "id": "RSRRxZgAbcKx",
        "colab_type": "text"
      },
      "source": [
        "## Building the network\n",
        "\n",
        "Here you should define your network. As with MNIST, each image is 28x28 which is a total of 784 pixels, and there are 10 classes. You should include at least one hidden layer. We suggest you use ReLU activations for the layers and to return the logits or log-softmax from the forward pass. It's up to you how many layers you add and the size of those layers."
      ]
    },
    {
      "cell_type": "code",
      "metadata": {
        "id": "3aJN7Rx_bcKx",
        "colab_type": "code",
        "colab": {}
      },
      "source": [
        "# TODO: Define your network architecture here\n",
        "%matplotlib inline\n",
        "%config InlineBackend.figure_format = 'retina'\n",
        "\n",
        "import matplotlib.pyplot as plt\n",
        "import numpy as np\n",
        "import time\n",
        "\n",
        "import torch\n",
        "from torch import nn\n",
        "from torch import optim\n",
        "import torch.nn.functional as F\n",
        "from torchvision import datasets, transforms\n",
        "\n",
        "# import helper\n",
        "\n",
        "model = nn.Sequential(nn.Linear(784, 128),\n",
        "                      nn.ReLU(),\n",
        "                      nn.Linear(128, 64),\n",
        "                      nn.ReLU(),\n",
        "                      nn.Linear(64, 10),\n",
        "                      nn.LogSoftmax(dim=1))"
      ],
      "execution_count": 0,
      "outputs": []
    },
    {
      "cell_type": "markdown",
      "metadata": {
        "id": "hHprNG1GbcKz",
        "colab_type": "text"
      },
      "source": [
        "# Train the network\n",
        "\n",
        "Now you should create your network and train it. First you'll want to define [the criterion](http://pytorch.org/docs/master/nn.html#loss-functions) ( something like `nn.CrossEntropyLoss`) and [the optimizer](http://pytorch.org/docs/master/optim.html) (typically `optim.SGD` or `optim.Adam`).\n",
        "\n",
        "Then write the training code. Remember the training pass is a fairly straightforward process:\n",
        "\n",
        "* Make a forward pass through the network to get the logits \n",
        "* Use the logits to calculate the loss\n",
        "* Perform a backward pass through the network with `loss.backward()` to calculate the gradients\n",
        "* Take a step with the optimizer to update the weights\n",
        "\n",
        "By adjusting the hyperparameters (hidden units, learning rate, etc), you should be able to get the training loss below 0.4."
      ]
    },
    {
      "cell_type": "code",
      "metadata": {
        "id": "ks9uCzJwbcKz",
        "colab_type": "code",
        "colab": {}
      },
      "source": [
        "# TODO: Create the network, define the criterion and optimizer\n",
        "criterion = nn.CrossEntropyLoss()\n",
        "optimizer = optim.SGD(model.parameters(), lr=0.005)"
      ],
      "execution_count": 0,
      "outputs": []
    },
    {
      "cell_type": "code",
      "metadata": {
        "id": "dSgm_2GfgzZD",
        "colab_type": "code",
        "colab": {
          "base_uri": "https://localhost:8080/",
          "height": 1000
        },
        "outputId": "1f9285db-c44c-4c08-c9a1-92d5f86db103"
      },
      "source": [
        "# TODO: Train the network here\n",
        "epochs = 200\n",
        "for e in range(epochs):\n",
        "    running_loss = 0\n",
        "    for images, labels in trainloader:\n",
        "        # Flatten MNIST images into a 784 long vector\n",
        "        images = images.view(images.shape[0], -1)\n",
        "    \n",
        "        # TODO: Training pass\n",
        "        optimizer.zero_grad()\n",
        "        \n",
        "        output = model(images)\n",
        "        loss = criterion(output, labels)\n",
        "        loss.backward()\n",
        "        optimizer.step()\n",
        "        \n",
        "        running_loss += loss.item()\n",
        "    else:\n",
        "        print(f\"Training loss: {running_loss/len(trainloader)}\")"
      ],
      "execution_count": 8,
      "outputs": [
        {
          "output_type": "stream",
          "text": [
            "Training loss: 1.3721848042534868\n",
            "Training loss: 0.6857946892219312\n",
            "Training loss: 0.5802262732342108\n",
            "Training loss: 0.5261218534794443\n",
            "Training loss: 0.4943128793097254\n",
            "Training loss: 0.47242940633472347\n",
            "Training loss: 0.456767408641925\n",
            "Training loss: 0.4440205007442025\n",
            "Training loss: 0.4332199363407296\n",
            "Training loss: 0.424139142997547\n",
            "Training loss: 0.4156027932538153\n",
            "Training loss: 0.40793383876080197\n",
            "Training loss: 0.40098379390326133\n",
            "Training loss: 0.3942552298498052\n",
            "Training loss: 0.38732393020823563\n",
            "Training loss: 0.38232751705372003\n",
            "Training loss: 0.3768318222402764\n",
            "Training loss: 0.371705045101485\n",
            "Training loss: 0.36673735822441733\n",
            "Training loss: 0.36245464331813965\n",
            "Training loss: 0.357979513418827\n",
            "Training loss: 0.35360821214184834\n",
            "Training loss: 0.3502099250139458\n",
            "Training loss: 0.3458292044556217\n",
            "Training loss: 0.34225571612273453\n",
            "Training loss: 0.3385137619573806\n",
            "Training loss: 0.3348648298714461\n",
            "Training loss: 0.3315448804990823\n",
            "Training loss: 0.32856714108319424\n",
            "Training loss: 0.32463958077847577\n",
            "Training loss: 0.32214802049243374\n",
            "Training loss: 0.31835729851206734\n",
            "Training loss: 0.31550475498284103\n",
            "Training loss: 0.31284501189107833\n",
            "Training loss: 0.31002602292530573\n",
            "Training loss: 0.30710586652096145\n",
            "Training loss: 0.3046315073220333\n",
            "Training loss: 0.30204692975417385\n",
            "Training loss: 0.2987095849282706\n",
            "Training loss: 0.29670136534710173\n",
            "Training loss: 0.2934996503264284\n",
            "Training loss: 0.29128072343305994\n",
            "Training loss: 0.28838173908465453\n",
            "Training loss: 0.28576823531278667\n",
            "Training loss: 0.28354952848955256\n",
            "Training loss: 0.2809146944997407\n",
            "Training loss: 0.2794704833058025\n",
            "Training loss: 0.2769810463319709\n",
            "Training loss: 0.2746327028059756\n",
            "Training loss: 0.2723407675939074\n",
            "Training loss: 0.26938363235356455\n",
            "Training loss: 0.2677532246928098\n",
            "Training loss: 0.2653544389013288\n",
            "Training loss: 0.2630063190992707\n",
            "Training loss: 0.2608462474001115\n",
            "Training loss: 0.2587884881936792\n",
            "Training loss: 0.25663213136353724\n",
            "Training loss: 0.25537767320045274\n",
            "Training loss: 0.25289232888296725\n",
            "Training loss: 0.25086438481900486\n",
            "Training loss: 0.24916602181060227\n",
            "Training loss: 0.2477464129818655\n",
            "Training loss: 0.24538940373164758\n",
            "Training loss: 0.24324943801995788\n",
            "Training loss: 0.2419718894829501\n",
            "Training loss: 0.23943259541604564\n",
            "Training loss: 0.23832653331429338\n",
            "Training loss: 0.23557594146079092\n",
            "Training loss: 0.233797503829892\n",
            "Training loss: 0.23241899145056188\n",
            "Training loss: 0.23049394659269085\n",
            "Training loss: 0.22952924483715853\n",
            "Training loss: 0.22746389653128601\n",
            "Training loss: 0.22491772464121074\n",
            "Training loss: 0.22355662261658132\n",
            "Training loss: 0.22265136087023374\n",
            "Training loss: 0.22076387492927915\n",
            "Training loss: 0.21905181751544797\n",
            "Training loss: 0.21698955652206692\n",
            "Training loss: 0.2159978005487019\n",
            "Training loss: 0.2139462005895084\n",
            "Training loss: 0.2131732828390878\n",
            "Training loss: 0.21114011970299013\n",
            "Training loss: 0.20974459684988075\n",
            "Training loss: 0.20850947129923397\n",
            "Training loss: 0.20669094684408673\n",
            "Training loss: 0.20478334037193865\n",
            "Training loss: 0.20367430461082123\n",
            "Training loss: 0.20259352329411487\n",
            "Training loss: 0.20040099859348873\n",
            "Training loss: 0.19975279106387198\n",
            "Training loss: 0.19784121649828293\n",
            "Training loss: 0.19701814093092865\n",
            "Training loss: 0.1951781349506841\n",
            "Training loss: 0.19401884498372515\n",
            "Training loss: 0.19255509455479794\n",
            "Training loss: 0.19065015909990776\n",
            "Training loss: 0.19003672358482632\n",
            "Training loss: 0.18877685283705878\n",
            "Training loss: 0.1869468078859198\n",
            "Training loss: 0.18656184213724472\n",
            "Training loss: 0.184805660860053\n",
            "Training loss: 0.18336316164749772\n",
            "Training loss: 0.18226204307348742\n",
            "Training loss: 0.18063296293462516\n",
            "Training loss: 0.17914782452589667\n",
            "Training loss: 0.1776825654417721\n",
            "Training loss: 0.1770974073424014\n",
            "Training loss: 0.17480842289385765\n",
            "Training loss: 0.173542091761952\n",
            "Training loss: 0.17292486679261682\n",
            "Training loss: 0.17233336510371045\n",
            "Training loss: 0.17045275107629773\n",
            "Training loss: 0.16858362672584398\n",
            "Training loss: 0.1682352966734214\n",
            "Training loss: 0.16689014025350243\n",
            "Training loss: 0.16533045484217754\n",
            "Training loss: 0.16413348222147428\n",
            "Training loss: 0.16306879923049447\n",
            "Training loss: 0.16237409816367793\n",
            "Training loss: 0.15990316480207545\n",
            "Training loss: 0.15933424316997977\n",
            "Training loss: 0.15836763188941902\n",
            "Training loss: 0.15703400338430012\n",
            "Training loss: 0.15638117084720496\n",
            "Training loss: 0.15429229575243078\n",
            "Training loss: 0.154003974463322\n",
            "Training loss: 0.15260695453995327\n",
            "Training loss: 0.15071682473902764\n",
            "Training loss: 0.15059938107821733\n",
            "Training loss: 0.14868416849658814\n",
            "Training loss: 0.14790032272225123\n",
            "Training loss: 0.14688772716120616\n",
            "Training loss: 0.14653589539150438\n",
            "Training loss: 0.1442931164095778\n",
            "Training loss: 0.14326108066337323\n",
            "Training loss: 0.1421488149127345\n",
            "Training loss: 0.14138290805936748\n",
            "Training loss: 0.14109582229177836\n",
            "Training loss: 0.13831521669970648\n",
            "Training loss: 0.13824172912121835\n",
            "Training loss: 0.13784832073284237\n",
            "Training loss: 0.1369125658570767\n",
            "Training loss: 0.13499441737336898\n",
            "Training loss: 0.13445779367455288\n",
            "Training loss: 0.1329034884045246\n",
            "Training loss: 0.13279280188018833\n",
            "Training loss: 0.13195603418706067\n",
            "Training loss: 0.130694214461137\n",
            "Training loss: 0.1290666382672436\n",
            "Training loss: 0.12973991913327784\n",
            "Training loss: 0.12731455609615425\n",
            "Training loss: 0.1264883452958898\n",
            "Training loss: 0.12613985168813133\n",
            "Training loss: 0.12465889241570222\n",
            "Training loss: 0.12271054208215111\n",
            "Training loss: 0.12349725939603502\n",
            "Training loss: 0.12138704814588719\n",
            "Training loss: 0.12177713212571037\n",
            "Training loss: 0.12071467673124027\n",
            "Training loss: 0.11955822409311337\n",
            "Training loss: 0.11843555851150424\n",
            "Training loss: 0.11774370925767082\n",
            "Training loss: 0.11700231140292784\n",
            "Training loss: 0.11564326067882053\n",
            "Training loss: 0.1146547114456704\n",
            "Training loss: 0.1123024325595418\n",
            "Training loss: 0.11223358170055886\n",
            "Training loss: 0.11224728505383295\n",
            "Training loss: 0.11163014624275759\n",
            "Training loss: 0.11116326165828369\n",
            "Training loss: 0.11038302951085288\n",
            "Training loss: 0.1088543072072809\n",
            "Training loss: 0.10879888570607343\n",
            "Training loss: 0.10722983407694647\n",
            "Training loss: 0.10739200709582265\n",
            "Training loss: 0.10482064384355474\n",
            "Training loss: 0.1061216281421149\n",
            "Training loss: 0.10311876090843158\n",
            "Training loss: 0.10432671131228587\n",
            "Training loss: 0.10231226886005036\n",
            "Training loss: 0.10127106344283644\n",
            "Training loss: 0.10051123791141932\n",
            "Training loss: 0.10002191353247745\n",
            "Training loss: 0.09845618715386655\n",
            "Training loss: 0.0968086122711902\n",
            "Training loss: 0.09808361834522758\n",
            "Training loss: 0.09610793864263147\n",
            "Training loss: 0.0963785704265017\n",
            "Training loss: 0.0939695163806682\n",
            "Training loss: 0.09519405736486668\n",
            "Training loss: 0.09271885376812807\n",
            "Training loss: 0.09354242624472707\n",
            "Training loss: 0.09179061587288309\n",
            "Training loss: 0.09054713224027075\n",
            "Training loss: 0.08976344767409855\n",
            "Training loss: 0.08952736146430344\n",
            "Training loss: 0.08939171478406453\n",
            "Training loss: 0.08784676015948945\n",
            "Training loss: 0.08780077287256083\n"
          ],
          "name": "stdout"
        }
      ]
    },
    {
      "cell_type": "code",
      "metadata": {
        "id": "giyNMmXlbcK1",
        "colab_type": "code",
        "colab": {}
      },
      "source": [
        "\n",
        "import matplotlib.pyplot as plt\n",
        "import numpy as np\n",
        "from torch import nn, optim\n",
        "from torch.autograd import Variable\n",
        "\n",
        "\n",
        "def test_network(net, trainloader):\n",
        "\n",
        "    criterion = nn.MSELoss()\n",
        "    optimizer = optim.Adam(net.parameters(), lr=0.001)\n",
        "\n",
        "    dataiter = iter(trainloader)\n",
        "    images, labels = dataiter.next()\n",
        "\n",
        "    # Create Variables for the inputs and targets\n",
        "    inputs = Variable(images)\n",
        "    targets = Variable(images)\n",
        "\n",
        "    # Clear the gradients from all Variables\n",
        "    optimizer.zero_grad()\n",
        "\n",
        "    # Forward pass, then backward pass, then update weights\n",
        "    output = net.forward(inputs)\n",
        "    loss = criterion(output, targets)\n",
        "    loss.backward()\n",
        "    optimizer.step()\n",
        "\n",
        "    return True\n",
        "\n",
        "\n"
      ],
      "execution_count": 0,
      "outputs": []
    },
    {
      "cell_type": "code",
      "metadata": {
        "id": "ddTsf0F4NQeq",
        "colab_type": "code",
        "colab": {}
      },
      "source": [
        "def imshow(image, ax=None, title=None, normalize=True):\n",
        "    \"\"\"Imshow for Tensor.\"\"\"\n",
        "    if ax is None:\n",
        "        fig, ax = plt.subplots()\n",
        "    image = image.numpy().transpose((1, 2, 0))\n",
        "\n",
        "    if normalize:\n",
        "        mean = np.array([0.485, 0.456, 0.406])\n",
        "        std = np.array([0.229, 0.224, 0.225])\n",
        "        image = std * image + mean\n",
        "        image = np.clip(image, 0, 1)\n",
        "\n",
        "    ax.imshow(image)\n",
        "    ax.spines['top'].set_visible(False)\n",
        "    ax.spines['right'].set_visible(False)\n",
        "    ax.spines['left'].set_visible(False)\n",
        "    ax.spines['bottom'].set_visible(False)\n",
        "    ax.tick_params(axis='both', length=0)\n",
        "    ax.set_xticklabels('')\n",
        "    ax.set_yticklabels('')\n",
        "\n",
        "    return ax\n",
        "\n",
        "\n",
        "def view_recon(img, recon):\n",
        "    ''' Function for displaying an image (as a PyTorch Tensor) and its\n",
        "        reconstruction also a PyTorch Tensor\n",
        "    '''\n",
        "\n",
        "    fig, axes = plt.subplots(ncols=2, sharex=True, sharey=True)\n",
        "    axes[0].imshow(img.numpy().squeeze())\n",
        "    axes[1].imshow(recon.data.numpy().squeeze())\n",
        "    for ax in axes:\n",
        "        ax.axis('off')\n",
        "        ax.set_adjustable('box-forced')\n",
        "\n",
        "def view_classify(img, ps, version=\"MNIST\"):\n",
        "    ''' Function for viewing an image and it's predicted classes.\n",
        "    '''\n",
        "    ps = ps.data.numpy().squeeze()\n",
        "\n",
        "    fig, (ax1, ax2) = plt.subplots(figsize=(6,9), ncols=2)\n",
        "    ax1.imshow(img.resize_(1, 28, 28).numpy().squeeze())\n",
        "    ax1.axis('off')\n",
        "    ax2.barh(np.arange(10), ps)\n",
        "    ax2.set_aspect(0.1)\n",
        "    ax2.set_yticks(np.arange(10))\n",
        "    if version == \"MNIST\":\n",
        "        ax2.set_yticklabels(np.arange(10))\n",
        "    elif version == \"Fashion\":\n",
        "        ax2.set_yticklabels(['T-shirt/top',\n",
        "                            'Trouser',\n",
        "                            'Pullover',\n",
        "                            'Dress',\n",
        "                            'Coat',\n",
        "                            'Sandal',\n",
        "                            'Shirt',\n",
        "                            'Sneaker',\n",
        "                            'Bag',\n",
        "                            'Ankle Boot'], size='small');\n",
        "    ax2.set_title('Class Probability')\n",
        "    ax2.set_xlim(0, 1.1)\n",
        "\n",
        "    plt.tight_layout()"
      ],
      "execution_count": 0,
      "outputs": []
    },
    {
      "cell_type": "code",
      "metadata": {
        "id": "kZPzPqUskc0y",
        "colab_type": "code",
        "colab": {
          "base_uri": "https://localhost:8080/",
          "height": 243
        },
        "outputId": "ebf6c290-677f-4c70-b485-c9bea1c01a46"
      },
      "source": [
        "%matplotlib inline\n",
        "\n",
        "images, labels = next(iter(trainloader))\n",
        "\n",
        "img = images[0].view(1, 784)\n",
        "# Turn off gradients to speed up this part\n",
        "with torch.no_grad():\n",
        "    logps = model(img)\n",
        "\n",
        "# Output of the network are log-probabilities, need to take exponential for probabilities\n",
        "ps = torch.exp(logps)\n",
        "view_classify(img.view(1, 28, 28), ps)"
      ],
      "execution_count": 11,
      "outputs": [
        {
          "output_type": "display_data",
          "data": {
            "image/png": "[encoded data removed]",
            "text/plain": [
              "<Figure size 432x648 with 2 Axes>"
            ]
          },
          "metadata": {
            "tags": [],
            "image/png": {
              "width": 423,
              "height": 226
            }
          }
        }
      ]
    },
    {
      "cell_type": "code",
      "metadata": {
        "id": "b1q-_MGUoPcJ",
        "colab_type": "code",
        "colab": {}
      },
      "source": [
        ""
      ],
      "execution_count": 0,
      "outputs": []
    }
  ]
}